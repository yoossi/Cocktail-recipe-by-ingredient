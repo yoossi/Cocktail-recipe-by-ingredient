{
  "nbformat": 4,
  "nbformat_minor": 0,
  "metadata": {
    "colab": {
      "name": "Cocktails_by_Ingredients.ipynb",
      "provenance": [],
      "authorship_tag": "ABX9TyOEZzfEMOg+bbvsldelPGQl",
      "include_colab_link": true
    },
    "kernelspec": {
      "name": "python3",
      "display_name": "Python 3"
    },
    "language_info": {
      "name": "python"
    }
  },
  "cells": [
    {
      "cell_type": "markdown",
      "metadata": {
        "id": "view-in-github",
        "colab_type": "text"
      },
      "source": [
        "<a href=\"https://colab.research.google.com/github/yoossi/Cocktail-recipe-by-ingredient/blob/main/Cocktails_by_Ingredients.ipynb\" target=\"_parent\"><img src=\"https://colab.research.google.com/assets/colab-badge.svg\" alt=\"Open In Colab\"/></a>"
      ]
    },
    {
      "cell_type": "markdown",
      "source": [
        "# Getting cocktail recipes by ingredients\n",
        "\n",
        "I love making and drinking cocktails, but there are too many cocktail choices available, and I sometimes forget which cocktails I can make with ingredients I have. I decided to do a simple project to solve this problem.\n",
        "\n",
        "Every recipe is in different format. Some require only 2 ingredients, while other may require 5 ingredients. Some have garnish, and some don't. Therefore, I decided to use document oriented database, because it would be much easier to transform the receipe to data than relational database. \n",
        "\n",
        "TinyDB is document oriented and file based database, which is the perfect choice for this project"
      ],
      "metadata": {
        "id": "QHeMKUjQAGPi"
      }
    },
    {
      "cell_type": "code",
      "execution_count": 1,
      "metadata": {
        "colab": {
          "base_uri": "https://localhost:8080/"
        },
        "id": "-CvJmHzo_77H",
        "outputId": "e26f52f3-b761-43d7-e382-4052427b30a4"
      },
      "outputs": [
        {
          "output_type": "stream",
          "name": "stdout",
          "text": [
            "Collecting tinydb\n",
            "  Downloading tinydb-4.7.0-py3-none-any.whl (24 kB)\n",
            "Requirement already satisfied: typing-extensions<5.0.0,>=3.10.0 in /usr/local/lib/python3.7/dist-packages (from tinydb) (3.10.0.2)\n",
            "Installing collected packages: tinydb\n",
            "Successfully installed tinydb-4.7.0\n"
          ]
        }
      ],
      "source": [
        "#install tinyDB\n",
        "!pip install tinydb"
      ]
    },
    {
      "cell_type": "code",
      "source": [
        "## import libraries\n",
        "from tinydb import TinyDB, Query, where\n",
        "import tinydb\n",
        "import json\n",
        "import pprint\n",
        "import random"
      ],
      "metadata": {
        "id": "H5Nq9zv2gfQ5"
      },
      "execution_count": 2,
      "outputs": []
    },
    {
      "cell_type": "markdown",
      "source": [
        "I already have created my cocktail receipes as json, and saved it on my github."
      ],
      "metadata": {
        "id": "2pXAKiJ4fqCa"
      }
    },
    {
      "cell_type": "code",
      "source": [
        "!wget https://raw.githubusercontent.com/yoossi/cocktail/main/cocktails.json"
      ],
      "metadata": {
        "colab": {
          "base_uri": "https://localhost:8080/"
        },
        "id": "jXEokflUAO8R",
        "outputId": "856b590e-dfd8-47a2-fcb6-735478387f5a"
      },
      "execution_count": 3,
      "outputs": [
        {
          "output_type": "stream",
          "name": "stdout",
          "text": [
            "--2022-03-05 02:03:28--  https://raw.githubusercontent.com/yoossi/cocktail/main/cocktails.json\n",
            "Resolving raw.githubusercontent.com (raw.githubusercontent.com)... 185.199.108.133, 185.199.109.133, 185.199.111.133, ...\n",
            "Connecting to raw.githubusercontent.com (raw.githubusercontent.com)|185.199.108.133|:443... connected.\n",
            "HTTP request sent, awaiting response... 200 OK\n",
            "Length: 4789 (4.7K) [text/plain]\n",
            "Saving to: ‘cocktails.json’\n",
            "\n",
            "cocktails.json      100%[===================>]   4.68K  --.-KB/s    in 0s      \n",
            "\n",
            "2022-03-05 02:03:29 (56.0 MB/s) - ‘cocktails.json’ saved [4789/4789]\n",
            "\n"
          ]
        }
      ]
    },
    {
      "cell_type": "markdown",
      "source": [
        "The json file is list of dictionaries, so I had to iterate the list and insert each dictionary into the tinydb database"
      ],
      "metadata": {
        "id": "P5zyfwgzgiWJ"
      }
    },
    {
      "cell_type": "code",
      "source": [
        "# create a new storage for the database\n",
        "db = tinydb.TinyDB(\"db_storage.json\")  \n",
        "\n",
        "# open the json file, and iterate over each entry and insert into database\n",
        "with open(\"./cocktails.json\", \"r\") as f:  \n",
        "    json_data = json.load(f)  \n",
        "\n",
        "for entry in json_data:  \n",
        "    db.insert(entry)  \n"
      ],
      "metadata": {
        "id": "wDo7jsaEARYz"
      },
      "execution_count": 4,
      "outputs": []
    },
    {
      "cell_type": "code",
      "source": [
        "# display number of recipes\n",
        "print('Number of cocktail recipes: ',len(db))"
      ],
      "metadata": {
        "colab": {
          "base_uri": "https://localhost:8080/"
        },
        "id": "D__BKIL2ATxg",
        "outputId": "87e57b77-50bc-46a6-920c-9644131ed19b"
      },
      "execution_count": 5,
      "outputs": [
        {
          "output_type": "stream",
          "name": "stdout",
          "text": [
            "Number of cocktail recipes:  15\n"
          ]
        }
      ]
    },
    {
      "cell_type": "markdown",
      "source": [
        "This is what a cocktail recipe looks like."
      ],
      "metadata": {
        "id": "jCkp_nlKg-ij"
      }
    },
    {
      "cell_type": "code",
      "source": [
        "# display one of the randomly chosen recipe\n",
        "pprint.pprint(db.all()[random.randint(0,len(db)-1)])"
      ],
      "metadata": {
        "colab": {
          "base_uri": "https://localhost:8080/"
        },
        "id": "WBzFeS2aAtoe",
        "outputId": "12d0c990-59f3-47ae-b148-ea71c11f216c"
      },
      "execution_count": 6,
      "outputs": [
        {
          "output_type": "stream",
          "name": "stdout",
          "text": [
            "{'ingredient': [{'amount': '2 oz', 'name': 'Whiskey', 'type': 'Spirit'},\n",
            "                {'amount': '0.75 oz', 'name': 'Simple Syrup', 'type': 'Syrup'},\n",
            "                {'amount': '0.75 oz', 'name': 'Lemon Juice', 'type': 'Juice'}],\n",
            " 'method': 'Shake',\n",
            " 'name': 'Whiskey Sour'}\n"
          ]
        }
      ]
    },
    {
      "cell_type": "markdown",
      "source": [
        "It will later ask user for input as integer corresponding to the ingredient name, to avoid any misspelling. \n",
        "To acomplish this task, I got all ingredient names from all recipes, and converted into dictionary with integer label. This way, it will generate the new dictionary even when a new ingredient is added."
      ],
      "metadata": {
        "id": "IBEq0p_IiMf4"
      }
    },
    {
      "cell_type": "code",
      "source": [
        "# Get all recipe documents which has ingredient key \n",
        "results = db.search(Query().ingredient.exists())\n",
        "ingredient = set()\n",
        "# iterate recipe documents and add to list\n",
        "for result in results:\n",
        "  for ing in result['ingredient']:\n",
        "    ingredient.add(ing['name'])\n",
        "\n",
        "ingredient = sorted(ingredient)\n",
        "# convert to dictionary with label as key and ingredients as value\n",
        "ingredients = {i+1: key for i, key in enumerate(ingredient)}"
      ],
      "metadata": {
        "id": "qn39OT5oAb70"
      },
      "execution_count": 7,
      "outputs": []
    },
    {
      "cell_type": "markdown",
      "source": [
        "Using the ingredient names, it asks for user input for list of ingredients."
      ],
      "metadata": {
        "id": "r6fKlLL9j-Bz"
      }
    },
    {
      "cell_type": "code",
      "source": [
        "active = True\n",
        "inputs=[]\n",
        "# show the \n",
        "print(\"Ingredient list\")\n",
        "for k,v in ingredients.items():\n",
        "  print(k,\":\", v)\n",
        "# get user input until user stops\n",
        "while active:\n",
        "  userinput = input(\"Which Ingredient do you have? (type # or type N to stop): \")\n",
        "  if userinput == 'N':\n",
        "    print(\"Input Completed\")\n",
        "    active = False\n",
        "  else:\n",
        "    # input validation\n",
        "    try:\n",
        "      val = int(userinput)\n",
        "      if val >= 0 and val <= len(ingredients):\n",
        "        inputs.append(ingredients[val])\n",
        "      else:\n",
        "        print(\"Input is out of range\")\n",
        "    except ValueError:\n",
        "      print(\"Please enter number\")"
      ],
      "metadata": {
        "colab": {
          "base_uri": "https://localhost:8080/"
        },
        "id": "6URBwtm-BSpG",
        "outputId": "08d8ff15-4213-4c83-add6-95c0329fdc98"
      },
      "execution_count": 8,
      "outputs": [
        {
          "output_type": "stream",
          "name": "stdout",
          "text": [
            "Ingredient list\n",
            "1 : Bitters\n",
            "2 : Coffee Liqueur\n",
            "3 : Cola\n",
            "4 : Espresso Shot\n",
            "5 : Gin\n",
            "6 : Ginger Beer\n",
            "7 : Lemon Juice\n",
            "8 : Lime Juice\n",
            "9 : Milk\n",
            "10 : Orange Liqueur\n",
            "11 : Rum\n",
            "12 : Simple Syrup\n",
            "13 : Tequila\n",
            "14 : Tonic Water\n",
            "15 : Vodka\n",
            "16 : Whiskey\n",
            "Which Ingredient do you have? (type # or type N to stop): 13\n",
            "Which Ingredient do you have? (type # or type N to stop): 16\n",
            "Which Ingredient do you have? (type # or type N to stop): 11\n",
            "Which Ingredient do you have? (type # or type N to stop): 3\n",
            "Which Ingredient do you have? (type # or type N to stop): 1\n",
            "Which Ingredient do you have? (type # or type N to stop): 10\n",
            "Which Ingredient do you have? (type # or type N to stop): 12\n",
            "Which Ingredient do you have? (type # or type N to stop): N\n",
            "Input Completed\n"
          ]
        }
      ]
    },
    {
      "cell_type": "markdown",
      "source": [
        "Finally, with given list of ingredients, it searches the database for possible cocktail recipes."
      ],
      "metadata": {
        "id": "BWNgcz0dkpSa"
      }
    },
    {
      "cell_type": "code",
      "source": [
        "results = db.search(Query().ingredient.all(Query().name.one_of(inputs)))\n",
        "print('The avaiable cocktails with current ingredients are')\n",
        "# if there is none\n",
        "if len(results) == 0:\n",
        "  print('None')\n",
        "else:\n",
        "  for result in results:\n",
        "    print(\"-\", result['name'])"
      ],
      "metadata": {
        "colab": {
          "base_uri": "https://localhost:8080/"
        },
        "id": "W_-cv7UPBnpq",
        "outputId": "05e80ae8-3b7b-4003-cca3-d879cccea96f"
      },
      "execution_count": 9,
      "outputs": [
        {
          "output_type": "stream",
          "name": "stdout",
          "text": [
            "The avaiable cocktails with current ingredients are\n",
            "- Cuba Libre\n",
            "- Old Fashioned\n"
          ]
        }
      ]
    }
  ]
}