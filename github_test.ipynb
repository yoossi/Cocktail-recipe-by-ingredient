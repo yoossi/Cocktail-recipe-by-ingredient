{
  "nbformat": 4,
  "nbformat_minor": 0,
  "metadata": {
    "colab": {
      "name": "github_test.ipynb",
      "provenance": [],
      "authorship_tag": "ABX9TyNixPxxV393durZCMlCEI2j",
      "include_colab_link": true
    },
    "kernelspec": {
      "name": "python3",
      "display_name": "Python 3"
    },
    "language_info": {
      "name": "python"
    }
  },
  "cells": [
    {
      "cell_type": "markdown",
      "metadata": {
        "id": "view-in-github",
        "colab_type": "text"
      },
      "source": [
        "<a href=\"https://colab.research.google.com/github/yoossi/cocktail/blob/main/github_test.ipynb\" target=\"_parent\"><img src=\"https://colab.research.google.com/assets/colab-badge.svg\" alt=\"Open In Colab\"/></a>"
      ]
    },
    {
      "cell_type": "markdown",
      "source": [
        "Text Testing"
      ],
      "metadata": {
        "id": "y7M1-LEYRQwm"
      }
    },
    {
      "cell_type": "code",
      "execution_count": 2,
      "metadata": {
        "colab": {
          "base_uri": "https://localhost:8080/"
        },
        "id": "i9jWk0boP1TR",
        "outputId": "96b829da-a17b-4332-ef81-dd1a99512a02"
      },
      "outputs": [
        {
          "output_type": "stream",
          "name": "stdout",
          "text": [
            "is this working?\n"
          ]
        }
      ],
      "source": [
        "print(\"is this working?\")"
      ]
    },
    {
      "cell_type": "code",
      "source": [
        "print(\"Add New\")\n"
      ],
      "metadata": {
        "id": "0cDyVkeRRESR",
        "outputId": "e7ee5f27-2ac8-4a21-a56c-d6cff4671b00",
        "colab": {
          "base_uri": "https://localhost:8080/"
        }
      },
      "execution_count": 1,
      "outputs": [
        {
          "output_type": "stream",
          "name": "stdout",
          "text": [
            "Add New\n"
          ]
        }
      ]
    }
  ]
}